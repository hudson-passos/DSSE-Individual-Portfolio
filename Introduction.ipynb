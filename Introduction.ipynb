{
 "cells": [
  {
   "cell_type": "markdown",
   "id": "c4f67ca0",
   "metadata": {},
   "source": [
    "---"
   ]
  },
  {
   "cell_type": "markdown",
   "id": "ef244165",
   "metadata": {},
   "source": [
    "**GRS35306 - Data Science for Smart Environments** "
   ]
  },
  {
   "cell_type": "markdown",
   "id": "c990e435",
   "metadata": {},
   "source": [
    "# Individual Plan"
   ]
  },
  {
   "cell_type": "markdown",
   "id": "6b235857",
   "metadata": {},
   "source": [
    "**Student: Hudson Passos (1311182)** \\\n",
    "**MEE (M. Earth and Environment)** "
   ]
  },
  {
   "cell_type": "markdown",
   "id": "d9c325a9",
   "metadata": {},
   "source": [
    "---"
   ]
  },
  {
   "cell_type": "markdown",
   "id": "54801753",
   "metadata": {},
   "source": [
    "### Background and motivation:"
   ]
  },
  {
   "cell_type": "markdown",
   "id": "e3772773",
   "metadata": {},
   "source": [
    "I have experience with ArcGIS Pro and QGIS, with some basic knowledge of Python and R. A few years ago, I took a long course on machine learning and deep learning, but I haven't had much practice since then. I chose this course because I think it related to my field of interest which lays in a combination of geospatial analysis with data science. However, I still have several knowledge gaps and I haven’t seen yet so many applications in this area. I believe in this course I can resolve both issues pursuing the following goals:"
   ]
  },
  {
   "cell_type": "markdown",
   "id": "f1bdbd64",
   "metadata": {},
   "source": [
    "### Goals:"
   ]
  },
  {
   "cell_type": "markdown",
   "id": "780fb449",
   "metadata": {},
   "source": [
    "1. Perform geospatial analysis in Python (e.g. geopandas).\n",
    "2. Combining information from different sources.\n",
    "3. Manage my scripts and data with github."
   ]
  },
  {
   "cell_type": "markdown",
   "id": "783fc112",
   "metadata": {},
   "source": [
    "### Intertwined/contributes with the project"
   ]
  },
  {
   "cell_type": "markdown",
   "id": "ce08f93d",
   "metadata": {},
   "source": [
    "**(1) geospatial analysis in Pandas:** we drafted a list of spatial data that will be useful for the data analysis related to the causes of air pollution. For instance: population density and land-use (tiff), power plant locations (csv point), administrative boundaries (shapefile), etc.  \\\n",
    "**(2) combining information:** we tracked many data from different sources that might be someway connected to produce new information. For example, combining data of air pollution with respiratory diseases can indicate a certain correlation and then a new created information. \\\n",
    "**(3) github:** we can share the project scripts with the group and maintain a version control. "
   ]
  },
  {
   "cell_type": "markdown",
   "id": "73493034",
   "metadata": {},
   "source": [
    "### Current level and level to achieve"
   ]
  },
  {
   "cell_type": "markdown",
   "id": "ab83e8dd",
   "metadata": {},
   "source": [
    "* **Geospatial analysis in Python:** current level (very low); to achieve (intermediate).\n",
    "* **Combining information:** current level (low); to achieve (intermediate).\n",
    "* **Github:** current level (very low); to achieve (intermediate)."
   ]
  },
  {
   "cell_type": "markdown",
   "id": "ed469ece",
   "metadata": {},
   "source": [
    "---"
   ]
  }
 ],
 "metadata": {
  "kernelspec": {
   "display_name": "Python 3 (ipykernel)",
   "language": "python",
   "name": "python3"
  },
  "language_info": {
   "codemirror_mode": {
    "name": "ipython",
    "version": 3
   },
   "file_extension": ".py",
   "mimetype": "text/x-python",
   "name": "python",
   "nbconvert_exporter": "python",
   "pygments_lexer": "ipython3",
   "version": "3.11.7"
  }
 },
 "nbformat": 4,
 "nbformat_minor": 5
}
