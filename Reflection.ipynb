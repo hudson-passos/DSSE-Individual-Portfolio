{
 "cells": [
  {
   "cell_type": "markdown",
   "id": "133ead57",
   "metadata": {},
   "source": [
    "---"
   ]
  },
  {
   "cell_type": "markdown",
   "id": "95063cc0",
   "metadata": {},
   "source": [
    "**GRS35306 - Data Science for Smart Environments** "
   ]
  },
  {
   "cell_type": "markdown",
   "id": "d6211c61",
   "metadata": {},
   "source": [
    "# Reflection and examples on the societal implications of using smart technologies"
   ]
  },
  {
   "cell_type": "markdown",
   "id": "69958dad",
   "metadata": {},
   "source": [
    "**Student: Hudson Passos (1311182)** \\\n",
    "**MEE (M. Earth and Environment)** "
   ]
  },
  {
   "cell_type": "markdown",
   "id": "b56b9da4",
   "metadata": {},
   "source": [
    "---"
   ]
  },
  {
   "cell_type": "markdown",
   "id": "4653fd12",
   "metadata": {},
   "source": [
    "### **Learning process**"
   ]
  },
  {
   "cell_type": "markdown",
   "id": "5162e490",
   "metadata": {},
   "source": [
    "**BCC:**\n",
    "The learning process in this course to be extremely engaging, particularly due to the opportunity to collaborate with international classmates. The group was so committed that we didn't experience any cultural barriers that needed to be addressed. Everyone was very professional, engaged, and flexible, so we were able to communicate and organize our project smoothly.\n",
    "\n",
    "Furthermore, my colleagues' knowledge of environmental science brought a more comprehensive view of the project's objectives. I was able to learn from their insights and think about the environmental issues from a different angle. In turn, my expertise in Python and geospatial data complemented their skills, contributing to a team effort that covered all bases.\n",
    "\n",
    "**What went ok:**\n",
    "The learning process was okay in many ways. In terms of programming, there is really an abundance of online resources. Much of the questions about Python programming were resolved through self-study (Google searches and AI language models). For questions about the approach to our proposed problem in the project, individual discussions with the teachers were more helpful.\n",
    "\n",
    "**What went not ok:**\n",
    "I think the way the lectures were distributed throughout the course could have been better. I would like to have a better separation between the project period and the lecture period. I think the lectures and exercises could occupy the first week, for example, and the remaining weeks would be occupied with the project. These overlaps between the project and the lectures/exercises took my focus away from the exercises. In addition, some methods, such as clustering, were presented to the class too late with respect to the project deadline."
   ]
  },
  {
   "cell_type": "markdown",
   "id": "5009e769",
   "metadata": {},
   "source": [
    "---"
   ]
  },
  {
   "cell_type": "markdown",
   "id": "8004c335",
   "metadata": {},
   "source": [
    "### **Societal implications of using smart technologies**"
   ]
  },
  {
   "cell_type": "markdown",
   "id": "bcfd4ac3",
   "metadata": {},
   "source": [
    "Data science resources and the abundant amount of datasets available online are surely an advancement. They promote more comprehensive and decentralized opportunities for learning and applying these data-driven techniques. However, a great deal of social responsibility is still not being properly promoted along with these innovations. These techniques have a transformative and influential power in society that is still greatly underestimated. I am not saying this only in relation to social networks, which have already received greater attention for involving large numbers of users around the world, but also with regard to techniques used in data science and have the same magnitude of impact.\n",
    "\n",
    "Our project, for example, would have great responsibility if it were to publicly relate cases of death from respiratory diseases to any factor, without considering all the details that this discussion deserves.\n",
    "\n",
    "What our project deals with is already well-known correlations (e.g. relating pollution to respiratory diseases), which are already well established in the scientific community and with well-established studies. Our aim was limited to verify this relationship with the methods learned in the course. However, if we were to point to any new correlation of factors that have never had previous attention, but without the scientific and statistical rigor to carefully investigate this correlation, it could have a very negative impact on society."
   ]
  },
  {
   "cell_type": "markdown",
   "id": "32098e1d",
   "metadata": {},
   "source": [
    "---"
   ]
  }
 ],
 "metadata": {
  "kernelspec": {
   "display_name": "Python 3 (ipykernel)",
   "language": "python",
   "name": "python3"
  },
  "language_info": {
   "codemirror_mode": {
    "name": "ipython",
    "version": 3
   },
   "file_extension": ".py",
   "mimetype": "text/x-python",
   "name": "python",
   "nbconvert_exporter": "python",
   "pygments_lexer": "ipython3",
   "version": "3.11.7"
  }
 },
 "nbformat": 4,
 "nbformat_minor": 5
}
